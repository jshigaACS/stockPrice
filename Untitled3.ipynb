{
 "cells": [
  {
   "cell_type": "code",
   "execution_count": 54,
   "metadata": {},
   "outputs": [],
   "source": [
    "import matplotlib.pyplot as plt\n",
    "import seaborn as sns\n",
    "import module\n",
    "from module import create_model_split,create_model_cv\n",
    "import pandas as pd\n",
    "import numpy as np\n",
    "\n",
    "\"\"\"\n",
    "変更点：目的変数を「偏差値」,\n",
    "        説明変数に以下を追加\n",
    "        「曜日」,[決算翌日フラグ], [長期休暇翌日フラグ]\n",
    "\n",
    "\"\"\"\n",
    "\n",
    "plt.rcParams['figure.figsize'] = (15.0, 15.0)\n",
    "\n",
    "\n",
    "\n",
    "def read_csv2df():\n",
    "    import pandas as pd\n",
    "\n",
    "    dirpath = '/home/ubuntu/analysis/stockPrice/'\n",
    "    csv_name = 'stockPriceData_dev_val_v2.csv'\n",
    "\n",
    "    df = pd.read_csv(dirpath+csv_name)\n",
    "    return df\n",
    "\n",
    "def setting_dummy(train_df):\n",
    "\n",
    "    d = pd.get_dummies(train_df['week_d'])\n",
    "    train_df['price_mon']=d['月']\n",
    "    train_df['price_tue']=d['火']\n",
    "    train_df['price_wed']=d['水']\n",
    "    train_df['price_thu']=d['木']\n",
    "    train_df['price_fri']=d['金']\n",
    "    train_df=train_df.drop(columns='week_d')\n",
    "\n",
    "    #print(train_df)\n",
    "\n",
    "    return train_df\n",
    "\n",
    "def setting(train_df):\n",
    "    #y_val = '富士通(株)：翌日比'\n",
    "    y_val = '富士通(株)：翌日比偏差値'\n",
    "    nonNeededCol = ['date', 'year','month', 'day']\n",
    "    nonNeededCol.append(y_val)\n",
    "    #独立変数の設定\n",
    "    x_val = [x for x in train_df.columns if x not in nonNeededCol]\n",
    "\n",
    "    return y_val, nonNeededCol, x_val\n",
    "\n",
    "\n",
    "def exe_prediction():\n",
    "    import subprocess as sp\n",
    "\n",
    "    cmd = 'python3'\n",
    "    program = 'prediction.py'\n",
    "    #_dir = '/home/ubuntu/analysis/stockPrice/'\n",
    "    command = [cmd,program]\n",
    "    #print(command)\n",
    "    sp.check_call(command)\n",
    "\n",
    "def plot(train_df, y):\n",
    "    plt.plot(train_df['date'],y, marker='o')\n",
    "    plt.plot(train_df['date'],y, marker='X')\n",
    "    plt.xlabel('date')\n",
    "    plt.ylabel('stockVal_ratio')\n",
    "    plt.tight_layout()\n",
    "    plt.show()\n",
    "    plt.figure()\n",
    "\n",
    "\n",
    "#変数間の相関行列およびヒートマップ\n",
    "def heatMap(df):\n",
    "    corr_mat = df.corr(method='pearson')\n",
    "    sns.heatmap(\n",
    "        corr_mat, \n",
    "        vmax=1.0, \n",
    "        vmin=-1.0,\n",
    "        center=0, \n",
    "        fmt='.1ft',    \n",
    "    )\n",
    "\n",
    "#実数と予測の比較グラフ\n",
    "def compare_view(y_test_df):\n",
    "    pred = y_test_df['y_test_pred']\n",
    "    test = y_test_df['y_test']\n",
    "\n",
    "    plt.plot(pred, label='prediction')\n",
    "    plt.plot(test, label='True')\n",
    "    plt.legend()\n",
    "\n",
    "def feature_view(feature_imp,col):\n",
    "\n",
    "    sns.barplot(x=feature_imp, y=col)\n",
    "    plt.xlabel('Feature Importance Score')\n",
    "    plt.ylabel('Features')\n",
    "    plt.title(\"Visualizing Important Features\")\n",
    "    plt.figure(figsize=(30,50))\n",
    "    plt.show()\n",
    "\n",
    "def compare_scaler(x,y):\n",
    "    from sklearn.preprocessing import StandardScaler\n",
    "    from sklearn.preprocessing import MinMaxScaler\n",
    "    from sklearn.preprocessing import RobustScaler\n",
    "\n",
    "    SS = StandardScaler()\n",
    "    MMS = MinMaxScaler()\n",
    "    RS = RobustScaler()\n",
    "    scalers = [SS,MMS,RS]\n",
    "    scores = {}\n",
    "    for scaler in scalers:\n",
    "        #y = scaler.fit_transform(np.array(y).reshape(-1,1))\n",
    "        #y = np.reshape(y,(-1))\n",
    "        x = scaler.fit_transform(x)\n",
    "        val = module.exe_ml(x, y)\n",
    "        score = {\n",
    "            str(scaler):val[1]\n",
    "        }\n",
    "        scores.update(score)\n",
    "        #print(str(scaler)+': '+score[1])\n",
    "    return scores\n",
    "\n",
    "\n",
    "\n",
    "\n",
    "\"\"\"\n",
    "1. 前準備\n",
    "    1-1: Load CSV\n",
    "    1-2: setting\n",
    "\"\"\"\n",
    "#1-1\n",
    "train_df = read_csv2df()#train_df.hist()\n",
    "train_df = setting_dummy(train_df)\n",
    "\n",
    "\n",
    "#1-2\n",
    "y_val, nonNeedCol, x_val = setting(train_df)\n",
    "\n",
    "x = train_df[x_val]\n",
    "y = train_df[y_val]\n"
   ]
  },
  {
   "cell_type": "code",
   "execution_count": 6,
   "metadata": {},
   "outputs": [
    {
     "data": {
      "text/plain": [
       "count    298.000000\n",
       "mean      50.000302\n",
       "std       10.000071\n",
       "min      -11.120000\n",
       "25%       45.012500\n",
       "50%       50.520000\n",
       "75%       54.760000\n",
       "max      109.860000\n",
       "Name: 富士通(株)：翌日比偏差値, dtype: float64"
      ]
     },
     "execution_count": 6,
     "metadata": {},
     "output_type": "execute_result"
    }
   ],
   "source": [
    "import scipy.stats\n",
    "import numpy as np \n",
    "\n",
    "y.describe()"
   ]
  },
  {
   "cell_type": "code",
   "execution_count": 7,
   "metadata": {},
   "outputs": [
    {
     "data": {
      "text/plain": [
       "count    298.000000\n",
       "mean      50.000302\n",
       "std       10.000071\n",
       "min      -11.120000\n",
       "25%       45.012500\n",
       "50%       50.520000\n",
       "75%       54.760000\n",
       "max      109.860000\n",
       "Name: 富士通(株)：翌日比偏差値, dtype: float64"
      ]
     },
     "execution_count": 7,
     "metadata": {},
     "output_type": "execute_result"
    }
   ],
   "source": [
    "y.describe()"
   ]
  },
  {
   "cell_type": "code",
   "execution_count": 17,
   "metadata": {
    "scrolled": true
   },
   "outputs": [
    {
     "data": {
      "text/plain": [
       "masked_array(data=[52.65, 62.09, 51.83, 54.62, 44.44, 50.02, 50.52, 45.75,\n",
       "                   52.65, 53.63, 53.39, 55.36, 51.83, 53.47, 44.69, 54.46,\n",
       "                   41.24, 42.96, 42.72, 32.79, 75.06, 45.75, 44.77, 65.78,\n",
       "                   63.24, 54.62, 55.69, 47.89, 41.08, 37.55, 53.72, 64.88,\n",
       "                   55.03, 45.92, 60.69, 50.68, 44.03, 50.27, 48.63, 42.72,\n",
       "                   58.07, 40.26, 35.58, 48.46, 45.92, 59.46, 55.19, 53.55,\n",
       "                   51.25, 59.87, 59.63, 44.11, 33.03, 36.89, 46.41, 49.94,\n",
       "                   47.31, 39.19, 57.9 , 75.06, 49.78, 55.6 , 48.05, 52.98,\n",
       "                   52.73, 44.77, 49.28, 51.58, 50.35, 47.97, 55.03, 49.61,\n",
       "                   44.11, 46.  , 54.21, 49.94, 67.92, 51.91, 47.81, 52.57,\n",
       "                   41.08, 53.55, 53.39, 42.55, 52.57, 44.36, 55.11, 48.96,\n",
       "                   53.63, 38.86, 48.79, 53.8 , 63.81, 49.37, 52.16, 52.49,\n",
       "                   51.66, 48.63, 39.27, 47.81, 38.37, 58.89, 55.85, 52.32,\n",
       "                   34.59, 46.41, 61.68, 54.78, 52.9 , 47.07, 59.63, 52.98,\n",
       "                   47.07, 53.72, 40.42, 46.  , 23.51, 58.72, 55.36, 44.77,\n",
       "                   50.68, 51.58, 45.26, 39.02, 53.31, 50.52, 59.71, 51.01,\n",
       "                   51.91, 53.72, 56.92, 45.67, 35.5 , 48.14, 50.52, 48.55,\n",
       "                   53.63, 54.7 , 50.6 , 46.74, 60.53, 46.49, 50.93, 54.37,\n",
       "                   60.2 , 56.84, 51.01, 44.52, 44.36, 56.34, 53.63, 47.97,\n",
       "                   37.88, 51.83, 41.65, 58.81, 62.01, 39.27, 52.24, 50.35,\n",
       "                   52.32, 54.54, 48.22, 28.85, 52.07, 50.43, 47.31, 64.96,\n",
       "                   46.17, 63.4 , 40.01, 49.53, 44.85, 59.3 , 68.33, 48.96,\n",
       "                   57.33, 47.15, 37.05, 45.51, 52.57, 75.06, 47.15, 50.93,\n",
       "                   57.25, 53.63, 54.62, 48.71, 46.08, 53.55, 35.91, 56.51,\n",
       "                   62.33, 71.69, 23.51, 48.55, 66.68, 53.63, 35.82, 39.85,\n",
       "                   29.5 , 59.63, 32.21, 59.38, 42.31, 51.66, 68.16, 50.76,\n",
       "                   45.43, 66.93, 44.28, 38.86, 40.83, 56.67, 49.94, 56.18,\n",
       "                   41.32, 58.31, 47.81, 55.11, 44.93, 35.25, 60.94, 51.34,\n",
       "                   51.17, 51.01, 33.53, 49.61, 48.87, 60.77, 46.99, 60.04,\n",
       "                   44.2 , 54.87, 49.94, 59.71, 59.22, 23.51, 37.96, 25.89,\n",
       "                   58.31, 41.4 , 48.05, 54.78, 44.77, 60.36, 50.35, 46.58,\n",
       "                   52.9 , 23.59, 52.32, 41.9 , 41.57, 45.59, 29.5 , 55.11,\n",
       "                   41.98, 61.1 , 28.03, 46.08, 68.41, 41.49, 48.46, 61.84,\n",
       "                   54.29, 52.57, 58.48, 40.99, 46.33, 44.69, 59.54, 43.05,\n",
       "                   42.64, 42.8 , 49.37, 60.53, 41.08, 61.84, 50.68, 54.29,\n",
       "                   54.13, 47.81, 59.54, 48.05, 49.12, 52.9 , 49.04, 50.68,\n",
       "                   68.33, 30.82, 46.25, 47.23, 51.99, 62.58, 53.14, 49.2 ,\n",
       "                   43.13, 51.99],\n",
       "             mask=False,\n",
       "       fill_value=1e+20)"
      ]
     },
     "execution_count": 17,
     "metadata": {},
     "output_type": "execute_result"
    }
   ],
   "source": [
    "scipy.stats.mstats.winsorize(y.values, limits=[0.01, 0.01])"
   ]
  },
  {
   "cell_type": "code",
   "execution_count": 10,
   "metadata": {},
   "outputs": [
    {
     "data": {
      "text/plain": [
       "masked_array(data=[ 92,  19, 101,  58, 101,  91,  26,  78,  10,  13,  -5,\n",
       "                   101,  86,  85,  15,  89,  89,  28,  -5,  41],\n",
       "             mask=False,\n",
       "       fill_value=999999)"
      ]
     },
     "execution_count": 10,
     "metadata": {},
     "output_type": "execute_result"
    }
   ],
   "source": [
    "import scipy.stats\n",
    "import numpy as np \n",
    "a = np.array([92, 19, 101, 58, 1053, 91, 26, 78, 10, 13, -40, 101, 86, 85, 15, 89, 89, 28, -5, 41]) \n",
    "scipy.stats.mstats.winsorize(a, limits=[0.05, 0.05])"
   ]
  },
  {
   "cell_type": "code",
   "execution_count": 23,
   "metadata": {},
   "outputs": [],
   "source": [
    "av = np.mean(y)"
   ]
  },
  {
   "cell_type": "code",
   "execution_count": 25,
   "metadata": {},
   "outputs": [
    {
     "data": {
      "text/plain": [
       "9.983278279743649"
      ]
     },
     "execution_count": 25,
     "metadata": {},
     "output_type": "execute_result"
    }
   ],
   "source": [
    "sd = np.std(y)\n",
    "sd"
   ]
  },
  {
   "cell_type": "code",
   "execution_count": 50,
   "metadata": {},
   "outputs": [],
   "source": [
    "out_min = av -(sd)*2\n",
    "out_max = av +(sd)*2"
   ]
  },
  {
   "cell_type": "code",
   "execution_count": 33,
   "metadata": {},
   "outputs": [
    {
     "name": "stdout",
     "output_type": "stream",
     "text": [
      "79.95013685265377\n",
      "20.050467174191873\n"
     ]
    }
   ],
   "source": [
    "print(out_max)\n",
    "print(out_min)"
   ]
  },
  {
   "cell_type": "code",
   "execution_count": 56,
   "metadata": {},
   "outputs": [],
   "source": [
    "y.loc[y < out_min] = av\n",
    "#y[y > out_max] = av"
   ]
  },
  {
   "cell_type": "code",
   "execution_count": 58,
   "metadata": {},
   "outputs": [
    {
     "data": {
      "text/plain": [
       "count    298.000000\n",
       "mean      50.852358\n",
       "std        8.407730\n",
       "min       30.820000\n",
       "25%       45.940000\n",
       "50%       50.520000\n",
       "75%       54.760000\n",
       "max      109.860000\n",
       "Name: 富士通(株)：翌日比偏差値, dtype: float64"
      ]
     },
     "execution_count": 58,
     "metadata": {},
     "output_type": "execute_result"
    }
   ],
   "source": [
    "y.describe()"
   ]
  },
  {
   "cell_type": "code",
   "execution_count": 66,
   "metadata": {},
   "outputs": [
    {
     "data": {
      "text/plain": [
       "[0.03125,\n",
       " 0.0625,\n",
       " 0.125,\n",
       " 0.25,\n",
       " 0.5,\n",
       " 1.0,\n",
       " 2.0,\n",
       " 4.0,\n",
       " 8.0,\n",
       " 16.0,\n",
       " 32.0,\n",
       " 64.0,\n",
       " 128.0,\n",
       " 256.0,\n",
       " 512.0,\n",
       " 1024.0]"
      ]
     },
     "execution_count": 66,
     "metadata": {},
     "output_type": "execute_result"
    }
   ],
   "source": [
    "a=2**np.arange(-5, 11, dtype=float)\n",
    "a.tolist()\n"
   ]
  }
 ],
 "metadata": {
  "kernelspec": {
   "display_name": "Python 3",
   "language": "python",
   "name": "python3"
  },
  "language_info": {
   "codemirror_mode": {
    "name": "ipython",
    "version": 3
   },
   "file_extension": ".py",
   "mimetype": "text/x-python",
   "name": "python",
   "nbconvert_exporter": "python",
   "pygments_lexer": "ipython3",
   "version": "3.5.2"
  }
 },
 "nbformat": 4,
 "nbformat_minor": 2
}
